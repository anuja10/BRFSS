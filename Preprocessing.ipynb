{
 "cells": [
  {
   "cell_type": "markdown",
   "id": "997fd2f7",
   "metadata": {},
   "source": [
    "# BRFSS - Behavioral Risk Factor Surveillance System"
   ]
  },
  {
   "cell_type": "markdown",
   "id": "eddfb9f4",
   "metadata": {},
   "source": [
    "### 1. Load Data"
   ]
  },
  {
   "cell_type": "code",
   "execution_count": 3,
   "id": "c75c2d0c",
   "metadata": {},
   "outputs": [],
   "source": [
    "# package imports\n",
    "import pandas as pd"
   ]
  },
  {
   "cell_type": "code",
   "execution_count": 10,
   "id": "7c684fb9",
   "metadata": {},
   "outputs": [
    {
     "name": "stderr",
     "output_type": "stream",
     "text": [
      "C:\\Users\\asawa\\AppData\\Local\\Temp\\ipykernel_9092\\403280998.py:3: DtypeWarning: Columns (13) have mixed types. Specify dtype option on import or set low_memory=False.\n",
      "  df = pd.read_csv(data_path)\n"
     ]
    },
    {
     "name": "stdout",
     "output_type": "stream",
     "text": [
      "Total Records: 2289902\n",
      "Total Columns: 27\n",
      "\n",
      "\n",
      "Column Names:\n",
      "\n",
      " Index(['Year', 'Locationabbr', 'Locationdesc', 'Class', 'Topic', 'Question',\n",
      "       'Response', 'Break_Out', 'Break_Out_Category', 'Sample_Size',\n",
      "       'Data_value', 'Confidence_limit_Low', 'Confidence_limit_High',\n",
      "       'Display_order', 'Data_value_unit', 'Data_value_type',\n",
      "       'Data_Value_Footnote_Symbol', 'Data_Value_Footnote', 'DataSource',\n",
      "       'ClassId', 'TopicId', 'LocationID', 'BreakoutID', 'BreakOutCategoryID',\n",
      "       'QuestionID', 'ResponseID', 'GeoLocation'],\n",
      "      dtype='object')\n"
     ]
    }
   ],
   "source": [
    "# input data path\n",
    "data_path = 'D:\\OneDrive - Indiana University\\Spring23\\COMET Lab\\Behavioral_Risk_Factor_Surveillance_System__BRFSS__Prevalence_Data__2011_to_present_.csv'\n",
    "df = pd.read_csv(data_path)\n",
    "print('Total Records:', df.shape[0])\n",
    "print('Total Columns:', df.shape[1])\n",
    "print('\\n\\nColumn Names:\\n\\n', df.columns)"
   ]
  },
  {
   "cell_type": "markdown",
   "id": "862f44cc",
   "metadata": {},
   "source": [
    "### 2. Filter Data by INDIANA State"
   ]
  },
  {
   "cell_type": "code",
   "execution_count": 6,
   "id": "fe22341a",
   "metadata": {},
   "outputs": [
    {
     "name": "stdout",
     "output_type": "stream",
     "text": [
      "Indiana state contains following number of rows and columns:\n",
      " (43167, 27)\n"
     ]
    }
   ],
   "source": [
    "def state_filter(df): # filter data by state-Indiana\n",
    "    statedf = df[df['Locationabbr']=='IN']\n",
    "    return statedf\n",
    "\n",
    "# filter data specific to indiana state and save the state csv\n",
    "df_IN = state_filter(df)\n",
    "print('Indiana state contains following number of rows and columns:\\n', df_IN.shape)"
   ]
  },
  {
   "cell_type": "markdown",
   "id": "a261f1fa",
   "metadata": {},
   "source": [
    "### 3. Filter: Age Group Category ['55+', '55-64', '65-84','85+']"
   ]
  },
  {
   "cell_type": "code",
   "execution_count": 14,
   "id": "745c7d2a",
   "metadata": {},
   "outputs": [
    {
     "data": {
      "text/plain": [
       "array(['18-24', '35-44', '55-64', '65+', '45-54', '25-34', '75+', '65-74',\n",
       "       '36-45', '50-59', '70-75', '60-69', '21-25', '60-64', '70-74',\n",
       "       '56-65', '46-55', '40-49', '26-35', '51-60', '21-30', '61-65',\n",
       "       '41-50', '31-40'], dtype=object)"
      ]
     },
     "execution_count": 14,
     "metadata": {},
     "output_type": "execute_result"
    }
   ],
   "source": [
    "df_BRFSS_Age_div = df_IN[df_IN['Break_Out_Category'] =='Age Group']\n",
    "df_BRFSS_Age_div['Break_Out'].unique()"
   ]
  },
  {
   "cell_type": "code",
   "execution_count": 16,
   "id": "51f030ae",
   "metadata": {},
   "outputs": [
    {
     "data": {
      "text/plain": [
       "(1586, 27)"
      ]
     },
     "execution_count": 16,
     "metadata": {},
     "output_type": "execute_result"
    }
   ],
   "source": [
    "df_BRFSS_Age_div[df_BRFSS_Age_div['Break_Out'].isin(['55+', '55-64', '65-84','85+'])].shape"
   ]
  },
  {
   "cell_type": "markdown",
   "id": "fda0ba27",
   "metadata": {},
   "source": [
    "### 4. Filter: Races ['White', 'Black', 'Hispanic', 'Other']"
   ]
  },
  {
   "cell_type": "code",
   "execution_count": 19,
   "id": "35e95747",
   "metadata": {},
   "outputs": [
    {
     "data": {
      "text/plain": [
       "array(['White, non-Hispanic', 'Hispanic', 'Black, non-Hispanic',\n",
       "       'Asian, non-Hispanic', 'Multiracial, non-Hispanic',\n",
       "       'Other, non-Hispanic',\n",
       "       'Native Hawaiian or other Pacific Islander, non-Hispanic',\n",
       "       'American Indian or Alaskan Native, non-Hispanic'], dtype=object)"
      ]
     },
     "execution_count": 19,
     "metadata": {},
     "output_type": "execute_result"
    }
   ],
   "source": [
    "df_BRFSS_Race_Ethnicity = df_IN[df_IN['Break_Out_Category'] =='Race/Ethnicity']\n",
    "df_BRFSS_Race_Ethnicity['Break_Out'].unique()"
   ]
  },
  {
   "cell_type": "code",
   "execution_count": 20,
   "id": "d2b0c158",
   "metadata": {},
   "outputs": [
    {
     "data": {
      "text/plain": [
       "(1715, 27)"
      ]
     },
     "execution_count": 20,
     "metadata": {},
     "output_type": "execute_result"
    }
   ],
   "source": [
    "df_BRFSS_Race_Ethnicity[df_BRFSS_Race_Ethnicity['Break_Out'].isin(['White', 'Black', 'Hispanic', 'Other'])].shape"
   ]
  },
  {
   "cell_type": "code",
   "execution_count": null,
   "id": "861a167b",
   "metadata": {},
   "outputs": [],
   "source": []
  }
 ],
 "metadata": {
  "kernelspec": {
   "display_name": "Python 3 (ipykernel)",
   "language": "python",
   "name": "python3"
  },
  "language_info": {
   "codemirror_mode": {
    "name": "ipython",
    "version": 3
   },
   "file_extension": ".py",
   "mimetype": "text/x-python",
   "name": "python",
   "nbconvert_exporter": "python",
   "pygments_lexer": "ipython3",
   "version": "3.9.12"
  }
 },
 "nbformat": 4,
 "nbformat_minor": 5
}
